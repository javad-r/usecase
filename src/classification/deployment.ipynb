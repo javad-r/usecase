{
 "cells": [
  {
   "cell_type": "code",
   "execution_count": null,
   "metadata": {
    "gather": {
     "logged": 1732778033659
    }
   },
   "outputs": [],
   "source": [
    "from azure.ai.ml import MLClient\n",
    "from azure.identity import DefaultAzureCredential\n",
    "from azure.ai.ml.constants import AssetTypes\n",
    "from azure.ai.ml.entities import Environment, Model, ManagedOnlineEndpoint, ManagedOnlineDeployment, CodeConfiguration\n",
    "import uuid\n",
    "import logging\n",
    "\n",
    "# Configure logging\n",
    "logging.basicConfig(level=logging.INFO)\n",
    "logger = logging.getLogger(__name__)\n",
    "\n",
    "# Azure ML workspace details\n",
    "subscription_id = \"<Subscription_ID>\"\n",
    "resource_group = \"<ResourceGroup>\"\n",
    "workspace_name = \"<WorkspaceName>\"\n",
    "\n",
    "# Initialize MLClient\n",
    "ml_client = MLClient(\n",
    "    DefaultAzureCredential(),\n",
    "    subscription_id,\n",
    "    resource_group,\n",
    "    workspace_name\n",
    ")\n",
    "\n",
    "# Define a fixed endpoint name to avoid creating a new one each time\n",
    "endpoint_name = \"a-dummy-endpoint-for-my-usecase-app\" # change this to the desired endpoint\n",
    "\n",
    "try:\n",
    "    # Check if the endpoint already exists\n",
    "    endpoint = ml_client.online_endpoints.get(endpoint_name)\n",
    "    logger.info(f\"Endpoint '{endpoint_name}' already exists. Skipping creation.\")\n",
    "except Exception as e:\n",
    "    logger.info(f\"Endpoint '{endpoint_name}' does not exist. Creating a new one...\")\n",
    "\n",
    "    # Create an online endpoint\n",
    "    endpoint = ManagedOnlineEndpoint(\n",
    "        name=endpoint_name,\n",
    "        auth_mode=\"key\"\n",
    "    )\n",
    "    logger.info(f\"Creating endpoint '{endpoint_name}'...\")\n",
    "    ml_client.online_endpoints.begin_create_or_update(endpoint).result()\n",
    "\n",
    "# Create environment configuration\n",
    "env = Environment(\n",
    "    name=\"multilabel-env\",\n",
    "    description=\"Environment for multilabel classification model\",\n",
    "    conda_file=\"environment.yaml\",\n",
    "    image=\"mcr.microsoft.com/azureml/minimal-ubuntu20.04-py38-cpu-inference:latest\"\n",
    ")\n",
    "ml_client.environments.create_or_update(env)\n",
    "\n",
    "# Deployment configuration\n",
    "deployment = ManagedOnlineDeployment(\n",
    "    name=\"default\",\n",
    "    endpoint_name=endpoint_name,\n",
    "    model=\"azureml:multilabel_classifier:16\", # change the version\n",
    "    environment=env,\n",
    "    # instance_type=\"Standard_DS3_v2\",\n",
    "    code_configuration=CodeConfiguration(code=\".\", scoring_script='score.py'),\n",
    "    environment_variables={\n",
    "        \"AZURE_SUBSCRIPTION_ID\": subscription_id,\n",
    "        \"AZURE_RESOURCE_GROUP\": resource_group,\n",
    "        \"AZURE_WORKSPACE_NAME\": workspace_name\n",
    "    }\n",
    ")\n",
    "print(f\"Creating deployment...\")\n",
    "ml_client.online_deployments.begin_create_or_update(deployment).result()\n",
    "\n",
    "# Set the deployment as default\n",
    "endpoint.traffic = {\"default\": 100}\n",
    "ml_client.online_endpoints.begin_create_or_update(endpoint).result()\n",
    "\n",
    "print(f\"Deployment completed. Endpoint {endpoint_name} is ready.\")"
   ]
  },
  {
   "cell_type": "code",
   "execution_count": null,
   "metadata": {
    "gather": {
     "logged": 1732776496732
    },
    "jupyter": {
     "outputs_hidden": false,
     "source_hidden": false
    },
    "nteract": {
     "transient": {
      "deleting": false
     }
    }
   },
   "outputs": [
    {
     "name": "stdout",
     "output_type": "stream",
     "text": [
      "Creating endpoint dummy-classifier-0b5c7cf2...\n",
      "........."
     ]
    },
    {
     "name": "stderr",
     "output_type": "stream",
     "text": [
      "Check: endpoint dummy-classifier-0b5c7cf2 exists\n",
      "Uploading deploy (0.01 MBs): 100%|██████████| 11367/11367 [00:00<00:00, 256632.40it/s]\n",
      "\n",
      "\n"
     ]
    }
   ],
   "source": []
  },
  {
   "cell_type": "code",
   "execution_count": null,
   "metadata": {
    "jupyter": {
     "outputs_hidden": false,
     "source_hidden": false
    },
    "nteract": {
     "transient": {
      "deleting": false
     }
    }
   },
   "outputs": [],
   "source": []
  }
 ],
 "metadata": {
  "kernel_info": {
   "name": "python310-sdkv2"
  },
  "kernelspec": {
   "display_name": "Python 3.10 - SDK v2",
   "language": "python",
   "name": "python310-sdkv2"
  },
  "language_info": {
   "codemirror_mode": {
    "name": "ipython",
    "version": 3
   },
   "file_extension": ".py",
   "mimetype": "text/x-python",
   "name": "python",
   "nbconvert_exporter": "python",
   "pygments_lexer": "ipython3",
   "version": "3.10.14"
  },
  "microsoft": {
   "host": {
    "AzureML": {
     "notebookHasBeenCompleted": true
    }
   },
   "ms_spell_check": {
    "ms_spell_check_language": "en"
   }
  },
  "nteract": {
   "version": "nteract-front-end@1.0.0"
  }
 },
 "nbformat": 4,
 "nbformat_minor": 2
}
