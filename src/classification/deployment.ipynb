{
 "cells": [
  {
   "cell_type": "code",
   "execution_count": null,
   "metadata": {
    "gather": {
     "logged": 1732778033659
    }
   },
   "outputs": [],
   "source": [
    "from azure.ai.ml import MLClient\n",
    "from azure.identity import DefaultAzureCredential\n",
    "from azure.ai.ml.constants import AssetTypes\n",
    "from azure.ai.ml.entities import Environment, Model, ManagedOnlineEndpoint, ManagedOnlineDeployment, CodeConfiguration\n",
    "import uuid\n",
    "\n",
    "# Azure ML workspace details\n",
    "subscription_id = \"14b6d2dd-fe2d-4c59-bc9a-ee949d79cfef\"\n",
    "resource_group = \"usecasehws1kdur\"\n",
    "workspace_name = \"usecasetesthws1kdur\"\n",
    "\n",
    "# Initialize MLClient\n",
    "ml_client = MLClient(\n",
    "    DefaultAzureCredential(),\n",
    "    subscription_id,\n",
    "    resource_group,\n",
    "    workspace_name\n",
    ")\n",
    "\n",
    "# Unique endpoint name\n",
    "endpoint_name = f\"dummy-classifier-{uuid.uuid4().hex[:8]}\"\n",
    "\n",
    "# Create an online endpoint\n",
    "endpoint = ManagedOnlineEndpoint(\n",
    "    name=endpoint_name,\n",
    "    auth_mode=\"key\"\n",
    ")\n",
    "print(f\"Creating endpoint {endpoint_name}...\")\n",
    "ml_client.online_endpoints.begin_create_or_update(endpoint).result()\n",
    "\n",
    "# Create environment configuration\n",
    "env = Environment(\n",
    "    name=\"multilabel-env\",\n",
    "    description=\"Environment for multilabel classification model\",\n",
    "    conda_file=\"environment.yaml\",\n",
    "    image=\"mcr.microsoft.com/azureml/minimal-ubuntu20.04-py38-cpu-inference:latest\"\n",
    ")\n",
    "ml_client.environments.create_or_update(env)\n",
    "\n",
    "# Deployment configuration\n",
    "deployment = ManagedOnlineDeployment(\n",
    "    name=\"default\",\n",
    "    endpoint_name=endpoint_name,\n",
    "    model=\"azureml:multilabel_classifier:16\", # change the version\n",
    "    environment=env,\n",
    "    # instance_type=\"Standard_DS3_v2\",\n",
    "    code_configuration=CodeConfiguration(code=\".\", scoring_script='score.py'),\n",
    "    environment_variables={\n",
    "        \"AZURE_SUBSCRIPTION_ID\": subscription_id,\n",
    "        \"AZURE_RESOURCE_GROUP\": resource_group,\n",
    "        \"AZURE_WORKSPACE_NAME\": workspace_name\n",
    "    }\n",
    ")\n",
    "print(f\"Creating deployment...\")\n",
    "ml_client.online_deployments.begin_create_or_update(deployment).result()\n",
    "\n",
    "# Set the deployment as default\n",
    "endpoint.traffic = {\"default\": 100}\n",
    "ml_client.online_endpoints.begin_create_or_update(endpoint).result()\n",
    "\n",
    "print(f\"Deployment completed. Endpoint {endpoint_name} is ready.\")"
   ]
  },
  {
   "cell_type": "code",
   "execution_count": null,
   "metadata": {
    "gather": {
     "logged": 1732776496732
    },
    "jupyter": {
     "outputs_hidden": false,
     "source_hidden": false
    },
    "nteract": {
     "transient": {
      "deleting": false
     }
    }
   },
   "outputs": [
    {
     "name": "stdout",
     "output_type": "stream",
     "text": [
      "Creating endpoint dummy-classifier-0b5c7cf2...\n",
      "........."
     ]
    },
    {
     "name": "stderr",
     "output_type": "stream",
     "text": [
      "Check: endpoint dummy-classifier-0b5c7cf2 exists\n",
      "Uploading deploy (0.01 MBs): 100%|██████████| 11367/11367 [00:00<00:00, 256632.40it/s]\n",
      "\n",
      "\n"
     ]
    }
   ],
   "source": []
  },
  {
   "cell_type": "code",
   "execution_count": null,
   "metadata": {
    "jupyter": {
     "outputs_hidden": false,
     "source_hidden": false
    },
    "nteract": {
     "transient": {
      "deleting": false
     }
    }
   },
   "outputs": [],
   "source": []
  }
 ],
 "metadata": {
  "kernel_info": {
   "name": "python310-sdkv2"
  },
  "kernelspec": {
   "display_name": "Python 3.10 - SDK v2",
   "language": "python",
   "name": "python310-sdkv2"
  },
  "language_info": {
   "codemirror_mode": {
    "name": "ipython",
    "version": 3
   },
   "file_extension": ".py",
   "mimetype": "text/x-python",
   "name": "python",
   "nbconvert_exporter": "python",
   "pygments_lexer": "ipython3",
   "version": "3.10.14"
  },
  "microsoft": {
   "host": {
    "AzureML": {
     "notebookHasBeenCompleted": true
    }
   },
   "ms_spell_check": {
    "ms_spell_check_language": "en"
   }
  },
  "nteract": {
   "version": "nteract-front-end@1.0.0"
  }
 },
 "nbformat": 4,
 "nbformat_minor": 2
}
