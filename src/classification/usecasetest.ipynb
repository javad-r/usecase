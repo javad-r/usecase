{
 "cells": [
  {
   "cell_type": "code",
   "execution_count": null,
   "metadata": {
    "gather": {
     "logged": 1732777541003
    }
   },
   "outputs": [],
   "source": [
    "from azureml.core import Workspace, Experiment, Datastore, Dataset\n",
    "from azureml.pipeline.core import Pipeline, PipelineData\n",
    "from azureml.pipeline.steps import PythonScriptStep\n",
    "from azureml.core.compute import ComputeTarget, AmlCompute\n",
    "from azureml.core.environment import Environment\n",
    "from azureml.core.runconfig import RunConfiguration\n",
    "from azureml.data.dataset_factory import TabularDatasetFactory\n",
    "from azureml.core.conda_dependencies import CondaDependencies\n",
    "\n",
    "import os\n",
    "\n",
    "# Set up workspace\n",
    "ws = Workspace.from_config()\n",
    "\n",
    "# Define constants\n",
    "compute_name = \"simpleTest\"\n",
    "env_name = \"usecaseTestEnv\"\n",
    "experiment_name = \"dummy-text-multilabel-classification\"\n",
    "\n",
    "compute_target = ws.compute_targets[compute_name]\n",
    "\n",
    "# Set up environment\n",
    "conda_dep = CondaDependencies()\n",
    "conda_dep.add_conda_package(\"python=3.8\")\n",
    "conda_dep.add_pip_package(\"pandas\")\n",
    "conda_dep.add_pip_package(\"scikit-learn\")\n",
    "conda_dep.add_pip_package(\"numpy\")\n",
    "conda_dep.add_pip_package(\"azureml-core\")\n",
    "conda_dep.add_pip_package(\"azureml-dataset-runtime\")\n",
    "\n",
    "env = Environment(name=env_name)\n",
    "env.python.conda_dependencies = conda_dep\n",
    "run_config = RunConfiguration()\n",
    "run_config.environment = env\n",
    "\n",
    "datastore = ws.get_default_datastore()\n",
    "dataset = Dataset.Tabular.from_delimited_files(path=(datastore, \"labelTwitterSmall.csv\"))\n",
    "# dataset = dataset.register(workspace=ws, name=\"labelTwitterSmall\", create_new_version=True)\n",
    "\n",
    "dataset2 = Dataset.Tabular.from_delimited_files(path=(datastore, \"UI/2024-12-02_011832_UTC/topics_terms.csv\"))\n",
    "# dataset2 = dataset.register(workspace=ws, name=\"topics_terms\", create_new_version=True)\n",
    "\n",
    "\n",
    "# Output paths\n",
    "preprocess_output = PipelineData(\"preprocess_output\", datastore=datastore)\n",
    "train_output = PipelineData(\"train_output\", datastore=datastore)\n",
    "\n",
    "# Step 1: Data Preprocessing\n",
    "preprocess_step = PythonScriptStep(\n",
    "    name=\"Data Preprocessing\",\n",
    "    script_name=\"preprocess.py\",\n",
    "    arguments=[\"--output_dir\", preprocess_output],\n",
    "    inputs=[dataset.as_named_input(\"input_data\"), \n",
    "    dataset2.as_named_input(\"input_data_2\")],\n",
    "    outputs=[preprocess_output],\n",
    "    compute_target=compute_target,\n",
    "    source_directory=\".\",\n",
    "    allow_reuse=False,\n",
    "    runconfig=run_config\n",
    ")\n",
    "\n",
    "# Step 2: Model Training && Deployment\n",
    "train_step = PythonScriptStep(\n",
    "    name=\"Model Training and Deploying\",\n",
    "    script_name=\"model.py\",\n",
    "    arguments=[\n",
    "        \"--input_dir\", preprocess_output,\n",
    "        \"--output_dir\", train_output,\n",
    "        \"--num_labels\", 20\n",
    "    ],\n",
    "    inputs=[preprocess_output],\n",
    "    outputs=[train_output],\n",
    "    compute_target=compute_target,\n",
    "    source_directory=\".\",\n",
    "    allow_reuse=False,\n",
    "    runconfig=run_config\n",
    ")\n",
    "\n",
    "# Define pipeline\n",
    "pipeline = Pipeline(workspace=ws, steps=[preprocess_step, train_step])\n",
    "\n",
    "# Submit pipeline\n",
    "experiment = Experiment(ws, experiment_name)\n",
    "pipeline_run = experiment.submit(pipeline)\n",
    "pipeline_run.wait_for_completion(show_output=True)\n",
    "\n"
   ]
  },
  {
   "cell_type": "code",
   "execution_count": null,
   "metadata": {
    "jupyter": {
     "outputs_hidden": false,
     "source_hidden": false
    },
    "nteract": {
     "transient": {
      "deleting": false
     }
    }
   },
   "outputs": [],
   "source": []
  }
 ],
 "metadata": {
  "kernel_info": {
   "name": "python38-azureml"
  },
  "kernelspec": {
   "display_name": "Python 3.8 - AzureML",
   "language": "python",
   "name": "python38-azureml"
  },
  "language_info": {
   "codemirror_mode": {
    "name": "ipython",
    "version": 3
   },
   "file_extension": ".py",
   "mimetype": "text/x-python",
   "name": "python",
   "nbconvert_exporter": "python",
   "pygments_lexer": "ipython3",
   "version": "3.10.11"
  },
  "microsoft": {
   "host": {
    "AzureML": {
     "notebookHasBeenCompleted": true
    }
   },
   "ms_spell_check": {
    "ms_spell_check_language": "en"
   }
  },
  "nteract": {
   "version": "nteract-front-end@1.0.0"
  }
 },
 "nbformat": 4,
 "nbformat_minor": 2
}
